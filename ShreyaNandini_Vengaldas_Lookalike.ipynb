{
 "cells": [
  {
   "cell_type": "code",
   "execution_count": 2,
   "metadata": {},
   "outputs": [
    {
     "name": "stdout",
     "output_type": "stream",
     "text": [
      "Lookalike.csv generated successfully!\n"
     ]
    }
   ],
   "source": [
    "import pandas as pd\n",
    "from sklearn.metrics.pairwise import cosine_similarity\n",
    "from sklearn.preprocessing import StandardScaler, OneHotEncoder\n",
    "\n",
    "# Load datasets\n",
    "customers = pd.read_csv(\"Customers.csv\")\n",
    "products = pd.read_csv(\"Products.csv\")\n",
    "transactions = pd.read_csv(\"Transactions.csv\")\n",
    "\n",
    "# Merge datasets\n",
    "merged_data = pd.merge(transactions, customers, on=\"CustomerID\")\n",
    "merged_data = pd.merge(merged_data, products, on=\"ProductID\")\n",
    "\n",
    "# Create customer profiles\n",
    "customer_profiles = merged_data.groupby(\"CustomerID\").agg({\n",
    "    \"TotalValue\": \"sum\",  # Total spend\n",
    "    \"Quantity\": \"sum\",  # Total quantity purchased\n",
    "    \"Category\": lambda x: x.mode()[0],  # Favorite category\n",
    "    \"Region\": \"first\"  # Customer region\n",
    "}).reset_index()\n",
    "\n",
    "# Encode categorical variables\n",
    "encoder = OneHotEncoder()\n",
    "encoded_features = encoder.fit_transform(customer_profiles[[\"Category\", \"Region\"]]).toarray()\n",
    "encoded_df = pd.DataFrame(encoded_features, columns=encoder.get_feature_names_out([\"Category\", \"Region\"]))\n",
    "\n",
    "# Combine numerical and encoded categorical features\n",
    "customer_features = pd.concat([customer_profiles[[\"CustomerID\", \"TotalValue\", \"Quantity\"]], encoded_df], axis=1)\n",
    "\n",
    "# Normalize numerical features\n",
    "scaler = StandardScaler()\n",
    "scaled_features = scaler.fit_transform(customer_features.iloc[:, 1:])\n",
    "\n",
    "# Calculate similarity matrix\n",
    "similarity_matrix = cosine_similarity(scaled_features)\n",
    "\n",
    "# Function to get top 3 lookalikes\n",
    "def get_top_lookalikes(customer_id, similarity_matrix, customer_profiles, top_n=3):\n",
    "    customer_index = customer_profiles[customer_profiles[\"CustomerID\"] == customer_id].index[0]\n",
    "    similarity_scores = list(enumerate(similarity_matrix[customer_index]))\n",
    "    similarity_scores = sorted(similarity_scores, key=lambda x: x[1], reverse=True)[1:top_n+1]  # Exclude self\n",
    "    lookalikes = [(customer_profiles.iloc[i][\"CustomerID\"], score) for i, score in similarity_scores]\n",
    "    return lookalikes\n",
    "\n",
    "# Generate lookalikes for the first 20 customers\n",
    "lookalike_map = {}\n",
    "for customer_id in customer_profiles[\"CustomerID\"].iloc[:20]:\n",
    "    lookalikes = get_top_lookalikes(customer_id, similarity_matrix, customer_profiles)\n",
    "    lookalike_map[customer_id] = lookalikes\n",
    "\n",
    "# Save to Lookalike.csv\n",
    "with open(\"Lookalike.csv\", \"w\") as file:\n",
    "    file.write(\"CustomerID,LookalikeID,SimilarityScore\\n\")\n",
    "    for cust_id, lookalikes in lookalike_map.items():\n",
    "        for lookalike_id, score in lookalikes:\n",
    "            file.write(f\"{cust_id},{lookalike_id},{score:.4f}\\n\")\n",
    "\n",
    "print(\"Lookalike.csv generated successfully!\")"
   ]
  },
  {
   "cell_type": "code",
   "execution_count": 4,
   "metadata": {},
   "outputs": [
    {
     "data": {
      "text/html": [
       "<div>\n",
       "<style scoped>\n",
       "    .dataframe tbody tr th:only-of-type {\n",
       "        vertical-align: middle;\n",
       "    }\n",
       "\n",
       "    .dataframe tbody tr th {\n",
       "        vertical-align: top;\n",
       "    }\n",
       "\n",
       "    .dataframe thead th {\n",
       "        text-align: right;\n",
       "    }\n",
       "</style>\n",
       "<table border=\"1\" class=\"dataframe\">\n",
       "  <thead>\n",
       "    <tr style=\"text-align: right;\">\n",
       "      <th></th>\n",
       "      <th>CustomerID</th>\n",
       "      <th>LookalikeID</th>\n",
       "      <th>SimilarityScore</th>\n",
       "    </tr>\n",
       "  </thead>\n",
       "  <tbody>\n",
       "    <tr>\n",
       "      <th>0</th>\n",
       "      <td>C0001</td>\n",
       "      <td>C0184</td>\n",
       "      <td>0.9983</td>\n",
       "    </tr>\n",
       "    <tr>\n",
       "      <th>1</th>\n",
       "      <td>C0001</td>\n",
       "      <td>C0048</td>\n",
       "      <td>0.9953</td>\n",
       "    </tr>\n",
       "    <tr>\n",
       "      <th>2</th>\n",
       "      <td>C0001</td>\n",
       "      <td>C0190</td>\n",
       "      <td>0.9906</td>\n",
       "    </tr>\n",
       "  </tbody>\n",
       "</table>\n",
       "</div>"
      ],
      "text/plain": [
       "  CustomerID LookalikeID  SimilarityScore\n",
       "0      C0001       C0184           0.9983\n",
       "1      C0001       C0048           0.9953\n",
       "2      C0001       C0190           0.9906"
      ]
     },
     "execution_count": 4,
     "metadata": {},
     "output_type": "execute_result"
    }
   ],
   "source": [
    "#Top 3 lookalikes\n",
    "df = pd.read_csv(\"Lookalike.csv\")\n",
    "df.head(3)"
   ]
  },
  {
   "cell_type": "code",
   "execution_count": null,
   "metadata": {},
   "outputs": [],
   "source": []
  }
 ],
 "metadata": {
  "kernelspec": {
   "display_name": "Python 3",
   "language": "python",
   "name": "python3"
  },
  "language_info": {
   "codemirror_mode": {
    "name": "ipython",
    "version": 3
   },
   "file_extension": ".py",
   "mimetype": "text/x-python",
   "name": "python",
   "nbconvert_exporter": "python",
   "pygments_lexer": "ipython3",
   "version": "3.9.6"
  }
 },
 "nbformat": 4,
 "nbformat_minor": 2
}
